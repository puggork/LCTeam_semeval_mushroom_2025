{
  "cells": [
    {
      "cell_type": "code",
      "execution_count": 10,
      "metadata": {
        "colab": {
          "base_uri": "https://localhost:8080/"
        },
        "id": "uLRRCt7057as",
        "outputId": "01cfed8d-2b7b-4b8a-e32e-08d3b41fcbbd"
      },
      "outputs": [
        {
          "name": "stdout",
          "output_type": "stream",
          "text": [
            "Requirement already satisfied: transformers in /usr/local/lib/python3.10/dist-packages (4.46.2)\n",
            "Requirement already satisfied: filelock in /usr/local/lib/python3.10/dist-packages (from transformers) (3.16.1)\n",
            "Requirement already satisfied: huggingface-hub<1.0,>=0.23.2 in /usr/local/lib/python3.10/dist-packages (from transformers) (0.26.2)\n",
            "Requirement already satisfied: numpy>=1.17 in /usr/local/lib/python3.10/dist-packages (from transformers) (1.26.4)\n",
            "Requirement already satisfied: packaging>=20.0 in /usr/local/lib/python3.10/dist-packages (from transformers) (24.2)\n",
            "Requirement already satisfied: pyyaml>=5.1 in /usr/local/lib/python3.10/dist-packages (from transformers) (6.0.2)\n",
            "Requirement already satisfied: regex!=2019.12.17 in /usr/local/lib/python3.10/dist-packages (from transformers) (2024.9.11)\n",
            "Requirement already satisfied: requests in /usr/local/lib/python3.10/dist-packages (from transformers) (2.32.3)\n",
            "Requirement already satisfied: safetensors>=0.4.1 in /usr/local/lib/python3.10/dist-packages (from transformers) (0.4.5)\n",
            "Requirement already satisfied: tokenizers<0.21,>=0.20 in /usr/local/lib/python3.10/dist-packages (from transformers) (0.20.3)\n",
            "Requirement already satisfied: tqdm>=4.27 in /usr/local/lib/python3.10/dist-packages (from transformers) (4.66.6)\n",
            "Requirement already satisfied: fsspec>=2023.5.0 in /usr/local/lib/python3.10/dist-packages (from huggingface-hub<1.0,>=0.23.2->transformers) (2024.10.0)\n",
            "Requirement already satisfied: typing-extensions>=3.7.4.3 in /usr/local/lib/python3.10/dist-packages (from huggingface-hub<1.0,>=0.23.2->transformers) (4.12.2)\n",
            "Requirement already satisfied: charset-normalizer<4,>=2 in /usr/local/lib/python3.10/dist-packages (from requests->transformers) (3.4.0)\n",
            "Requirement already satisfied: idna<4,>=2.5 in /usr/local/lib/python3.10/dist-packages (from requests->transformers) (3.10)\n",
            "Requirement already satisfied: urllib3<3,>=1.21.1 in /usr/local/lib/python3.10/dist-packages (from requests->transformers) (2.2.3)\n",
            "Requirement already satisfied: certifi>=2017.4.17 in /usr/local/lib/python3.10/dist-packages (from requests->transformers) (2024.8.30)\n"
          ]
        }
      ],
      "source": [
        "!pip install transformers\n",
        "\n",
        "from transformers import AutoTokenizer, AutoModelForSequenceClassification, pipeline"
      ]
    },
    {
      "cell_type": "markdown",
      "metadata": {
        "id": "m0aiJje2AfAk"
      },
      "source": [
        "## Set the model"
      ]
    },
    {
      "cell_type": "code",
      "execution_count": 38,
      "metadata": {
        "colab": {
          "base_uri": "https://localhost:8080/"
        },
        "id": "exrk7poR6QDa",
        "outputId": "1d336e80-c38e-41cf-a87c-2a593e21a615"
      },
      "outputs": [
        {
          "name": "stderr",
          "output_type": "stream",
          "text": [
            "Hardware accelerator e.g. GPU is available in the environment, but no `device` argument is passed to the `Pipeline` object. Model will be on CPU.\n"
          ]
        }
      ],
      "source": [
        "# Load a pre-trained NLI model\n",
        "model_name = \"MoritzLaurer/mDeBERTa-v3-base-mnli-xnli\"\n",
        "tokenizer = AutoTokenizer.from_pretrained(model_name)\n",
        "model = AutoModelForSequenceClassification.from_pretrained(model_name)\n",
        "\n",
        "# Set the pipeline\n",
        "nli_pipeline = pipeline(\"zero-shot-classification\", model=model, tokenizer=tokenizer)"
      ]
    },
    {
      "cell_type": "markdown",
      "metadata": {
        "id": "QjLHJ7N77RLk"
      },
      "source": [
        "# Predict"
      ]
    },
    {
      "cell_type": "code",
      "execution_count": 42,
      "metadata": {
        "colab": {
          "base_uri": "https://localhost:8080/"
        },
        "id": "TLvSYNr77SkK",
        "outputId": "312d662e-4f6f-4dba-dcc0-ff83996a5c4a"
      },
      "outputs": [
        {
          "name": "stdout",
          "output_type": "stream",
          "text": [
            "['arachnids', 'have', 'antennas.', 'However,', 'not', 'all', 'of', 'them', 'are', 'visible', 'to', 'the', 'naked', 'eye.']\n",
            "[0.34349700808525085]\n",
            "\n",
            "['Yes,', 'have', 'antennas.', 'However,', 'not', 'all', 'of', 'them', 'are', 'visible', 'to', 'the', 'naked', 'eye.']\n",
            "[0.5866739153862]\n",
            "\n",
            "['Yes,', 'all', 'antennas.', 'However,', 'not', 'all', 'of', 'them', 'are', 'visible', 'to', 'the', 'naked', 'eye.']\n",
            "[0.32181596755981445]\n",
            "\n",
            "['Yes,', 'all', 'arachnids', 'However,', 'not', 'all', 'of', 'them', 'are', 'visible', 'to', 'the', 'naked', 'eye.']\n",
            "[0.19084815680980682]\n",
            "\n",
            "['Yes,', 'all', 'arachnids', 'have', 'not', 'all', 'of', 'them', 'are', 'visible', 'to', 'the', 'naked', 'eye.']\n",
            "[0.039539240300655365]\n",
            "\n",
            "['Yes,', 'all', 'arachnids', 'have', 'antennas.', 'all', 'of', 'them', 'are', 'visible', 'to', 'the', 'naked', 'eye.']\n",
            "[0.01984013058245182]\n",
            "\n",
            "['Yes,', 'all', 'arachnids', 'have', 'antennas.', 'However,', 'of', 'them', 'are', 'visible', 'to', 'the', 'naked', 'eye.']\n",
            "[0.020805031061172485]\n",
            "\n",
            "['Yes,', 'all', 'arachnids', 'have', 'antennas.', 'However,', 'not', 'them', 'are', 'visible', 'to', 'the', 'naked', 'eye.']\n",
            "[0.0865793228149414]\n",
            "\n",
            "['Yes,', 'all', 'arachnids', 'have', 'antennas.', 'However,', 'not', 'all', 'are', 'visible', 'to', 'the', 'naked', 'eye.']\n",
            "[0.29571959376335144]\n",
            "\n",
            "['Yes,', 'all', 'arachnids', 'have', 'antennas.', 'However,', 'not', 'all', 'of', 'visible', 'to', 'the', 'naked', 'eye.']\n",
            "[0.2793601453304291]\n",
            "\n",
            "['Yes,', 'all', 'arachnids', 'have', 'antennas.', 'However,', 'not', 'all', 'of', 'them', 'to', 'the', 'naked', 'eye.']\n",
            "[0.2769492566585541]\n",
            "\n",
            "['Yes,', 'all', 'arachnids', 'have', 'antennas.', 'However,', 'not', 'all', 'of', 'them', 'are', 'the', 'naked', 'eye.']\n",
            "[0.17570531368255615]\n",
            "\n",
            "['Yes,', 'all', 'arachnids', 'have', 'antennas.', 'However,', 'not', 'all', 'of', 'them', 'are', 'visible', 'naked', 'eye.']\n",
            "[0.20107334852218628]\n",
            "\n",
            "['Yes,', 'all', 'arachnids', 'have', 'antennas.', 'However,', 'not', 'all', 'of', 'them', 'are', 'visible', 'to', 'eye.']\n",
            "[0.19451849162578583]\n",
            "\n",
            "['Yes,', 'all', 'arachnids', 'have', 'antennas.', 'However,', 'not', 'all', 'of', 'them', 'are', 'visible', 'to', 'the']\n",
            "[0.18844954669475555]\n",
            "\n",
            "['Yes,', 'all', 'arachnids', 'have', 'antennas.', 'However,', 'not', 'all', 'of', 'them', 'are', 'visible', 'to', 'the', 'naked']\n",
            "[0.25678735971450806]\n",
            "\n"
          ]
        }
      ],
      "source": [
        "premise = \"Do all arthropods have antennae?\"\n",
        "\n",
        "ngram_output = [[\"arachnids\", \"have\", \"antennas.\", \"However,\", \"not\", \"all\", \"of\", \"them\", \"are\", \"visible\", \"to\", \"the\", \"naked\", \"eye.\"], [\"Yes,\", \"have\", \"antennas.\", \"However,\", \"not\", \"all\", \"of\", \"them\", \"are\", \"visible\", \"to\", \"the\", \"naked\", \"eye.\"], [\"Yes,\", \"all\", \"antennas.\", \"However,\", \"not\", \"all\", \"of\", \"them\", \"are\", \"visible\", \"to\", \"the\", \"naked\", \"eye.\"], [\"Yes,\", \"all\", \"arachnids\", \"However,\", \"not\", \"all\", \"of\", \"them\", \"are\", \"visible\", \"to\", \"the\", \"naked\", \"eye.\"], [\"Yes,\", \"all\", \"arachnids\", \"have\", \"not\", \"all\", \"of\", \"them\", \"are\", \"visible\", \"to\", \"the\", \"naked\", \"eye.\"], [\"Yes,\", \"all\", \"arachnids\", \"have\", \"antennas.\", \"all\", \"of\", \"them\", \"are\", \"visible\", \"to\", \"the\", \"naked\", \"eye.\"], [\"Yes,\", \"all\", \"arachnids\", \"have\", \"antennas.\", \"However,\", \"of\", \"them\", \"are\", \"visible\", \"to\", \"the\", \"naked\", \"eye.\"], [\"Yes,\", \"all\", \"arachnids\", \"have\", \"antennas.\", \"However,\", \"not\", \"them\", \"are\", \"visible\", \"to\", \"the\", \"naked\", \"eye.\"], [\"Yes,\", \"all\", \"arachnids\", \"have\", \"antennas.\", \"However,\", \"not\", \"all\", \"are\", \"visible\", \"to\", \"the\", \"naked\", \"eye.\"], [\"Yes,\", \"all\", \"arachnids\", \"have\", \"antennas.\", \"However,\", \"not\", \"all\", \"of\", \"visible\", \"to\", \"the\", \"naked\", \"eye.\"], [\"Yes,\", \"all\", \"arachnids\", \"have\", \"antennas.\", \"However,\", \"not\", \"all\", \"of\", \"them\", \"to\", \"the\", \"naked\", \"eye.\"], [\"Yes,\", \"all\", \"arachnids\", \"have\", \"antennas.\", \"However,\", \"not\", \"all\", \"of\", \"them\", \"are\", \"the\", \"naked\", \"eye.\"], [\"Yes,\", \"all\", \"arachnids\", \"have\", \"antennas.\", \"However,\", \"not\", \"all\", \"of\", \"them\", \"are\", \"visible\", \"naked\", \"eye.\"], [\"Yes,\", \"all\", \"arachnids\", \"have\", \"antennas.\", \"However,\", \"not\", \"all\", \"of\", \"them\", \"are\", \"visible\", \"to\", \"eye.\"], [\"Yes,\", \"all\", \"arachnids\", \"have\", \"antennas.\", \"However,\", \"not\", \"all\", \"of\", \"them\", \"are\", \"visible\", \"to\", \"the\"], [\"Yes,\", \"all\", \"arachnids\", \"have\", \"antennas.\", \"However,\", \"not\", \"all\", \"of\", \"them\", \"are\", \"visible\", \"to\", \"the\", \"naked\"]]\n",
        "\n",
        "for hypothesis in ngram_output:\n",
        "    print(hypothesis)\n",
        "    result = nli_pipeline(premise, candidate_labels=[\" \".join(hypothesis)])\n",
        "    print(result['scores'])\n",
        "    print()"
      ]
    }
  ],
  "metadata": {
    "accelerator": "GPU",
    "colab": {
      "gpuType": "T4",
      "provenance": []
    },
    "kernelspec": {
      "display_name": "Python 3",
      "name": "python3"
    },
    "language_info": {
      "name": "python"
    }
  },
  "nbformat": 4,
  "nbformat_minor": 0
}
