{
  "cells": [
    {
      "cell_type": "markdown",
      "source": [
        "# Install and import requirements"
      ],
      "metadata": {
        "id": "6-YfwztGvVVF"
      }
    },
    {
      "cell_type": "code",
      "execution_count": 1,
      "metadata": {
        "colab": {
          "base_uri": "https://localhost:8080/"
        },
        "id": "BCgE0fr3UJGm",
        "outputId": "b43ca5e0-5a0f-406d-ba62-8d402edde7c0"
      },
      "outputs": [
        {
          "output_type": "stream",
          "name": "stdout",
          "text": [
            "Requirement already satisfied: openai in /usr/local/lib/python3.10/dist-packages (1.57.4)\n",
            "Requirement already satisfied: anyio<5,>=3.5.0 in /usr/local/lib/python3.10/dist-packages (from openai) (3.7.1)\n",
            "Requirement already satisfied: distro<2,>=1.7.0 in /usr/local/lib/python3.10/dist-packages (from openai) (1.9.0)\n",
            "Requirement already satisfied: httpx<1,>=0.23.0 in /usr/local/lib/python3.10/dist-packages (from openai) (0.28.1)\n",
            "Requirement already satisfied: jiter<1,>=0.4.0 in /usr/local/lib/python3.10/dist-packages (from openai) (0.8.2)\n",
            "Requirement already satisfied: pydantic<3,>=1.9.0 in /usr/local/lib/python3.10/dist-packages (from openai) (2.10.3)\n",
            "Requirement already satisfied: sniffio in /usr/local/lib/python3.10/dist-packages (from openai) (1.3.1)\n",
            "Requirement already satisfied: tqdm>4 in /usr/local/lib/python3.10/dist-packages (from openai) (4.67.1)\n",
            "Requirement already satisfied: typing-extensions<5,>=4.11 in /usr/local/lib/python3.10/dist-packages (from openai) (4.12.2)\n",
            "Requirement already satisfied: idna>=2.8 in /usr/local/lib/python3.10/dist-packages (from anyio<5,>=3.5.0->openai) (3.10)\n",
            "Requirement already satisfied: exceptiongroup in /usr/local/lib/python3.10/dist-packages (from anyio<5,>=3.5.0->openai) (1.2.2)\n",
            "Requirement already satisfied: certifi in /usr/local/lib/python3.10/dist-packages (from httpx<1,>=0.23.0->openai) (2024.12.14)\n",
            "Requirement already satisfied: httpcore==1.* in /usr/local/lib/python3.10/dist-packages (from httpx<1,>=0.23.0->openai) (1.0.7)\n",
            "Requirement already satisfied: h11<0.15,>=0.13 in /usr/local/lib/python3.10/dist-packages (from httpcore==1.*->httpx<1,>=0.23.0->openai) (0.14.0)\n",
            "Requirement already satisfied: annotated-types>=0.6.0 in /usr/local/lib/python3.10/dist-packages (from pydantic<3,>=1.9.0->openai) (0.7.0)\n",
            "Requirement already satisfied: pydantic-core==2.27.1 in /usr/local/lib/python3.10/dist-packages (from pydantic<3,>=1.9.0->openai) (2.27.1)\n"
          ]
        }
      ],
      "source": [
        "!pip install openai"
      ]
    },
    {
      "cell_type": "markdown",
      "source": [
        "# Upload unlabelled train data"
      ],
      "metadata": {
        "id": "B1Z9Zxh6vmqW"
      }
    },
    {
      "cell_type": "markdown",
      "source": [
        "*  unlabelled train data - 'mushroom.en-train_nolabel.v1.json'"
      ],
      "metadata": {
        "id": "Gh-tGhGKvcxB"
      }
    },
    {
      "cell_type": "code",
      "execution_count": 2,
      "metadata": {
        "colab": {
          "base_uri": "https://localhost:8080/",
          "height": 73
        },
        "id": "gl3ohZQ8qaUv",
        "outputId": "6e0ded02-2807-46d9-dda3-7ba155a9f91e"
      },
      "outputs": [
        {
          "output_type": "display_data",
          "data": {
            "text/plain": [
              "<IPython.core.display.HTML object>"
            ],
            "text/html": [
              "\n",
              "     <input type=\"file\" id=\"files-3a640e87-b3ea-4b19-af45-f9139b571927\" name=\"files[]\" multiple disabled\n",
              "        style=\"border:none\" />\n",
              "     <output id=\"result-3a640e87-b3ea-4b19-af45-f9139b571927\">\n",
              "      Upload widget is only available when the cell has been executed in the\n",
              "      current browser session. Please rerun this cell to enable.\n",
              "      </output>\n",
              "      <script>// Copyright 2017 Google LLC\n",
              "//\n",
              "// Licensed under the Apache License, Version 2.0 (the \"License\");\n",
              "// you may not use this file except in compliance with the License.\n",
              "// You may obtain a copy of the License at\n",
              "//\n",
              "//      http://www.apache.org/licenses/LICENSE-2.0\n",
              "//\n",
              "// Unless required by applicable law or agreed to in writing, software\n",
              "// distributed under the License is distributed on an \"AS IS\" BASIS,\n",
              "// WITHOUT WARRANTIES OR CONDITIONS OF ANY KIND, either express or implied.\n",
              "// See the License for the specific language governing permissions and\n",
              "// limitations under the License.\n",
              "\n",
              "/**\n",
              " * @fileoverview Helpers for google.colab Python module.\n",
              " */\n",
              "(function(scope) {\n",
              "function span(text, styleAttributes = {}) {\n",
              "  const element = document.createElement('span');\n",
              "  element.textContent = text;\n",
              "  for (const key of Object.keys(styleAttributes)) {\n",
              "    element.style[key] = styleAttributes[key];\n",
              "  }\n",
              "  return element;\n",
              "}\n",
              "\n",
              "// Max number of bytes which will be uploaded at a time.\n",
              "const MAX_PAYLOAD_SIZE = 100 * 1024;\n",
              "\n",
              "function _uploadFiles(inputId, outputId) {\n",
              "  const steps = uploadFilesStep(inputId, outputId);\n",
              "  const outputElement = document.getElementById(outputId);\n",
              "  // Cache steps on the outputElement to make it available for the next call\n",
              "  // to uploadFilesContinue from Python.\n",
              "  outputElement.steps = steps;\n",
              "\n",
              "  return _uploadFilesContinue(outputId);\n",
              "}\n",
              "\n",
              "// This is roughly an async generator (not supported in the browser yet),\n",
              "// where there are multiple asynchronous steps and the Python side is going\n",
              "// to poll for completion of each step.\n",
              "// This uses a Promise to block the python side on completion of each step,\n",
              "// then passes the result of the previous step as the input to the next step.\n",
              "function _uploadFilesContinue(outputId) {\n",
              "  const outputElement = document.getElementById(outputId);\n",
              "  const steps = outputElement.steps;\n",
              "\n",
              "  const next = steps.next(outputElement.lastPromiseValue);\n",
              "  return Promise.resolve(next.value.promise).then((value) => {\n",
              "    // Cache the last promise value to make it available to the next\n",
              "    // step of the generator.\n",
              "    outputElement.lastPromiseValue = value;\n",
              "    return next.value.response;\n",
              "  });\n",
              "}\n",
              "\n",
              "/**\n",
              " * Generator function which is called between each async step of the upload\n",
              " * process.\n",
              " * @param {string} inputId Element ID of the input file picker element.\n",
              " * @param {string} outputId Element ID of the output display.\n",
              " * @return {!Iterable<!Object>} Iterable of next steps.\n",
              " */\n",
              "function* uploadFilesStep(inputId, outputId) {\n",
              "  const inputElement = document.getElementById(inputId);\n",
              "  inputElement.disabled = false;\n",
              "\n",
              "  const outputElement = document.getElementById(outputId);\n",
              "  outputElement.innerHTML = '';\n",
              "\n",
              "  const pickedPromise = new Promise((resolve) => {\n",
              "    inputElement.addEventListener('change', (e) => {\n",
              "      resolve(e.target.files);\n",
              "    });\n",
              "  });\n",
              "\n",
              "  const cancel = document.createElement('button');\n",
              "  inputElement.parentElement.appendChild(cancel);\n",
              "  cancel.textContent = 'Cancel upload';\n",
              "  const cancelPromise = new Promise((resolve) => {\n",
              "    cancel.onclick = () => {\n",
              "      resolve(null);\n",
              "    };\n",
              "  });\n",
              "\n",
              "  // Wait for the user to pick the files.\n",
              "  const files = yield {\n",
              "    promise: Promise.race([pickedPromise, cancelPromise]),\n",
              "    response: {\n",
              "      action: 'starting',\n",
              "    }\n",
              "  };\n",
              "\n",
              "  cancel.remove();\n",
              "\n",
              "  // Disable the input element since further picks are not allowed.\n",
              "  inputElement.disabled = true;\n",
              "\n",
              "  if (!files) {\n",
              "    return {\n",
              "      response: {\n",
              "        action: 'complete',\n",
              "      }\n",
              "    };\n",
              "  }\n",
              "\n",
              "  for (const file of files) {\n",
              "    const li = document.createElement('li');\n",
              "    li.append(span(file.name, {fontWeight: 'bold'}));\n",
              "    li.append(span(\n",
              "        `(${file.type || 'n/a'}) - ${file.size} bytes, ` +\n",
              "        `last modified: ${\n",
              "            file.lastModifiedDate ? file.lastModifiedDate.toLocaleDateString() :\n",
              "                                    'n/a'} - `));\n",
              "    const percent = span('0% done');\n",
              "    li.appendChild(percent);\n",
              "\n",
              "    outputElement.appendChild(li);\n",
              "\n",
              "    const fileDataPromise = new Promise((resolve) => {\n",
              "      const reader = new FileReader();\n",
              "      reader.onload = (e) => {\n",
              "        resolve(e.target.result);\n",
              "      };\n",
              "      reader.readAsArrayBuffer(file);\n",
              "    });\n",
              "    // Wait for the data to be ready.\n",
              "    let fileData = yield {\n",
              "      promise: fileDataPromise,\n",
              "      response: {\n",
              "        action: 'continue',\n",
              "      }\n",
              "    };\n",
              "\n",
              "    // Use a chunked sending to avoid message size limits. See b/62115660.\n",
              "    let position = 0;\n",
              "    do {\n",
              "      const length = Math.min(fileData.byteLength - position, MAX_PAYLOAD_SIZE);\n",
              "      const chunk = new Uint8Array(fileData, position, length);\n",
              "      position += length;\n",
              "\n",
              "      const base64 = btoa(String.fromCharCode.apply(null, chunk));\n",
              "      yield {\n",
              "        response: {\n",
              "          action: 'append',\n",
              "          file: file.name,\n",
              "          data: base64,\n",
              "        },\n",
              "      };\n",
              "\n",
              "      let percentDone = fileData.byteLength === 0 ?\n",
              "          100 :\n",
              "          Math.round((position / fileData.byteLength) * 100);\n",
              "      percent.textContent = `${percentDone}% done`;\n",
              "\n",
              "    } while (position < fileData.byteLength);\n",
              "  }\n",
              "\n",
              "  // All done.\n",
              "  yield {\n",
              "    response: {\n",
              "      action: 'complete',\n",
              "    }\n",
              "  };\n",
              "}\n",
              "\n",
              "scope.google = scope.google || {};\n",
              "scope.google.colab = scope.google.colab || {};\n",
              "scope.google.colab._files = {\n",
              "  _uploadFiles,\n",
              "  _uploadFilesContinue,\n",
              "};\n",
              "})(self);\n",
              "</script> "
            ]
          },
          "metadata": {}
        },
        {
          "output_type": "stream",
          "name": "stdout",
          "text": [
            "Saving mushroom.en-train_nolabel.v1.jsonl to mushroom.en-train_nolabel.v1.jsonl\n"
          ]
        }
      ],
      "source": [
        "from google.colab import files\n",
        "up = files.upload()"
      ]
    },
    {
      "cell_type": "code",
      "execution_count": 3,
      "metadata": {
        "id": "4girRurgrCQO"
      },
      "outputs": [],
      "source": [
        "import json\n",
        "\n",
        "def load_jsonl_file_to_records(filename):\n",
        "    records = []\n",
        "    try:\n",
        "        with open(filename, 'r', encoding='utf-8') as f:\n",
        "            for line in f:\n",
        "                records.append(json.loads(line))\n",
        "\n",
        "        return pd.DataFrame(records)\n",
        "    except Exception as e:\n",
        "        print(f\"Error reading {filename}: {e}\")\n",
        "        return None"
      ]
    },
    {
      "cell_type": "code",
      "execution_count": 4,
      "metadata": {
        "id": "9GyMu9xArDIu"
      },
      "outputs": [],
      "source": [
        "import pandas as pd\n",
        "train_df = load_jsonl_file_to_records('mushroom.en-train_nolabel.v1.jsonl')"
      ]
    },
    {
      "cell_type": "code",
      "execution_count": 5,
      "metadata": {
        "id": "I0WG-7MXcQy_",
        "outputId": "527716b2-c552-42d3-f027-930d49746693",
        "colab": {
          "base_uri": "https://localhost:8080/"
        }
      },
      "outputs": [
        {
          "output_type": "stream",
          "name": "stdout",
          "text": [
            "Length of unabelled train file: 809\n"
          ]
        }
      ],
      "source": [
        "print(\"Length of unlabelled train file:\", len(train_df))"
      ]
    },
    {
      "cell_type": "markdown",
      "source": [
        "# Label the data"
      ],
      "metadata": {
        "id": "a8NAFXAFvwNb"
      }
    },
    {
      "cell_type": "markdown",
      "source": [
        "1) Generate Wikipedia Summary: Generate a summary from Wikipedia based on self-checking GPT API.\n",
        "\n",
        "2) Correct LLM Output: Correct the LLM's output based on the Wikipedia summary using GPT API."
      ],
      "metadata": {
        "id": "NzxO-GvLvzTX"
      }
    },
    {
      "cell_type": "code",
      "execution_count": 7,
      "metadata": {
        "id": "QDboX1x_cQzA",
        "colab": {
          "base_uri": "https://localhost:8080/"
        },
        "outputId": "c4333eb2-305c-49ba-b7d2-67d4e97dac70"
      },
      "outputs": [
        {
          "output_type": "stream",
          "name": "stdout",
          "text": [
            "Sending request in \"generate_summary_with_self_check\"\n",
            "Sending request in \"generate_summary_with_self_check\"\n",
            "Sending request in \"generate_summary_with_self_check\"\n",
            "Sending request in \"self_check_responses\"\n",
            "Sending request in \"generate_corrected_output\"\n",
            "Error generating corrected output: Connection error.\n"
          ]
        }
      ],
      "source": [
        "import pandas as pd\n",
        "from openai import OpenAI\n",
        "\n",
        "# Initialize the OpenAI client with your API key\n",
        "client = OpenAI(\n",
        "    api_key=\"\"\n",
        ")\n",
        "\n",
        "def generate_summary_with_self_check(model_input, num_responses=3):\n",
        "    \"\"\"\n",
        "    Generate a Wikipedia-based summary and self-check it for consistency.\n",
        "    \"\"\"\n",
        "    prompt = (\n",
        "        f\"Generate a concise Wikipedia-based summary for the following question:\\n\"\n",
        "        f\"'{model_input}'\\n\"\n",
        "        f\"Ensure the summary contains only factual and relevant information.\"\n",
        "    )\n",
        "    responses = []\n",
        "\n",
        "    # Generate multiple responses for self-checking\n",
        "    for _ in range(num_responses):\n",
        "        try:\n",
        "            print('Sending request in \"generate_summary_with_self_check\"')\n",
        "            response = client.chat.completions.create(\n",
        "                model=\"gpt-4o\",\n",
        "                messages=[\n",
        "                    {\"role\": \"system\", \"content\": \"You are an expert summarizer who generates accurate and concise summaries.\"},\n",
        "                    {\"role\": \"user\", \"content\": prompt}\n",
        "                ],\n",
        "                max_tokens=500,\n",
        "                temperature=0.0\n",
        "            )\n",
        "            responses.append(response.choices[0].message.content.strip())\n",
        "        except Exception as e:\n",
        "            responses.append(f\"Error generating summary: {e}\")\n",
        "\n",
        "    # Compare responses for consistency\n",
        "    return self_check_responses(responses)\n",
        "\n",
        "def self_check_responses(responses):\n",
        "    \"\"\"\n",
        "    Perform self-checking for multiple generated summaries.\n",
        "    \"\"\"\n",
        "    prompt = (\n",
        "        f\"Here are multiple summaries generated for the same query:\\n\\n\"\n",
        "        f\"{chr(10).join([f'{i+1}. {response}' for i, response in enumerate(responses)])}\\n\\n\"\n",
        "        f\"Please:\\n\"\n",
        "        f\"Please provide the most accurate and consistent summary only.\"\n",
        "    )\n",
        "    try:\n",
        "        print('Sending request in \"self_check_responses\"')\n",
        "        response = client.chat.completions.create(\n",
        "            model=\"gpt-4o\",\n",
        "            messages=[\n",
        "                {\"role\": \"system\", \"content\": \"You are an expert at verifying factual consistency in summaries, and return the best summary\"},\n",
        "                {\"role\": \"user\", \"content\": prompt}\n",
        "            ],\n",
        "            max_tokens=500,\n",
        "            temperature=0.0\n",
        "        )\n",
        "        return response.choices[0].message.content.strip()\n",
        "    except Exception as e:\n",
        "        return f\"Error during self-checking: {e}\"\n",
        "\n",
        "def generate_corrected_output(summary, model_output):\n",
        "    \"\"\"Generate a corrected version of the model output using the Wikipedia-based summary.\"\"\"\n",
        "    prompt = (\n",
        "        f\"The following text is a Wikipedia-based summary:\\n\"\n",
        "        f\"{summary}\\n\\n\"\n",
        "        f\"The model generated the following output:\\n\"\n",
        "        f\"{model_output}\\n\\n\"\n",
        "        f\"Correct the model's output using the Wikipedia-based summary. \"\n",
        "        f\"Do not change the grammatical structure of the original text, but replace hallucinated or overgenerated words \"\n",
        "        f\"with accurate ones from the summary. Provide only the corrected output.\"\n",
        "    )\n",
        "    try:\n",
        "        print('Sending request in \"generate_corrected_output\"')\n",
        "        response = client.chat.completions.create(\n",
        "            model=\"gpt-4o\",\n",
        "            messages=[\n",
        "                {\"role\": \"system\", \"content\": \"You are an expert editor who ensures factual accuracy.\"},\n",
        "                {\"role\": \"user\", \"content\": prompt}\n",
        "            ],\n",
        "            max_tokens=500,\n",
        "            temperature=0.0\n",
        "        )\n",
        "        return response.choices[0].message.content.strip()\n",
        "    except Exception as e:\n",
        "        return f\"Error generating corrected output: {e}\"\n",
        "\n",
        "\n",
        "if __name__ == \"__main__\":\n",
        "    # Sample training and validation data\n",
        "    train_data = [\n",
        "        {\"lang\": \"EN\", \"model_id\": \"togethercomputer/Pythia-Chat-Base-7B\",\n",
        "         \"model_input\": \"What did Petra van Staveren win a gold medal for?\",\n",
        "         \"model_output_text\": \"Petra van Staveren won a silver medal in the men's 10 km walk at the 2008 Summer Olympics in Beijing.\"}\n",
        "    ]\n",
        "\n",
        "    val_data = [\n",
        "        {\"id\": \"val-en-1\", \"lang\": \"EN\",\n",
        "         \"model_input\": \"What did Petra van Staveren win a gold medal for?\",\n",
        "         \"model_output_text\": \"Petra van Stoveren won a silver medal in the 2008 Summer Olympics in Beijing, China.\",\n",
        "         \"hard_labels\": [[25, 31], [45, 49], [69, 83]]}\n",
        "    ]\n",
        "\n",
        "    # Convert to DataFrame\n",
        "    train_df = pd.DataFrame(train_data)\n",
        "    val_df = pd.DataFrame(val_data)\n",
        "\n",
        "    # Step 1: Generate a Wikipedia-based summary with self-checking for the model input\n",
        "    train_df[\"generated_summary\"] = train_df[\"model_input\"].apply(generate_summary_with_self_check)\n",
        "\n",
        "    # Step 2: Generate a corrected output for the model output\n",
        "    train_df[\"corrected_output\"] = train_df.apply(\n",
        "        lambda x: generate_corrected_output(x[\"generated_summary\"], x[\"model_output_text\"]), axis=1\n",
        "    )\n",
        "\n",
        "train_df.head()\n",
        "print(train_df[\"corrected_output\"][0])"
      ]
    }
  ],
  "metadata": {
    "colab": {
      "provenance": []
    },
    "kernelspec": {
      "display_name": "Python 3",
      "name": "python3"
    },
    "language_info": {
      "codemirror_mode": {
        "name": "ipython",
        "version": 3
      },
      "file_extension": ".py",
      "mimetype": "text/x-python",
      "name": "python",
      "nbconvert_exporter": "python",
      "pygments_lexer": "ipython3",
      "version": "3.10.12"
    }
  },
  "nbformat": 4,
  "nbformat_minor": 0
}